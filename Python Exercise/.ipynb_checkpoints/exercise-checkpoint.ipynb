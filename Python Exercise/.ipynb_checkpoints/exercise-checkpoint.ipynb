{
 "cells": [
  {
   "cell_type": "code",
   "execution_count": 2,
   "id": "c8febdc4",
   "metadata": {},
   "outputs": [
    {
     "name": "stdin",
     "output_type": "stream",
     "text": [
      "Enter a string:  madam\n"
     ]
    },
    {
     "name": "stdout",
     "output_type": "stream",
     "text": [
      "The string is a palindrome.\n"
     ]
    }
   ],
   "source": [
    "#1.Write a Python function to check if a string is a palindrome. (String from user input)\n",
    "def is_palindrome(s):\n",
    "    s = s.replace(\" \", \"\").lower()  # Remove spaces and convert to lowercase\n",
    "    return s == s[::-1]\n",
    "\n",
    "user_input = input(\"Enter a string: \")\n",
    "if is_palindrome(user_input):\n",
    "    print(\"The string is a palindrome.\")\n",
    "else:\n",
    "    print(\"The string is not a palindrome.\")"
   ]
  },
  {
   "cell_type": "code",
   "execution_count": 3,
   "id": "571c5d98-15ba-4760-8de4-c5cc26d03a93",
   "metadata": {},
   "outputs": [
    {
     "name": "stdout",
     "output_type": "stream",
     "text": [
      "Squares of numbers: [1, 4, 9, 16, 25, 36, 49, 64, 81, 100]\n"
     ]
    }
   ],
   "source": [
    "#2.Given a list of numbers, use list comprehension to create a list of their squares.\n",
    "# Given list of numbers\n",
    "numbers = [1, 2, 3, 4, 5, 6, 7, 8, 9, 10]\n",
    "\n",
    "# List comprehension to get squares\n",
    "squares = [x**2 for x in numbers]\n",
    "\n",
    "# Print the result\n",
    "print(\"Squares of numbers:\", squares)"
   ]
  },
  {
   "cell_type": "code",
   "execution_count": 4,
   "id": "f52d8c36-9206-4393-8f3b-d0f5e90d3d28",
   "metadata": {},
   "outputs": [
    {
     "name": "stdout",
     "output_type": "stream",
     "text": [
      "\n",
      "Students scoring more than 80:\n",
      "    Student  Marks\n",
      "1   Preeti     88\n",
      "2   Amulya     92\n",
      "4  Lavanya     81\n"
     ]
    }
   ],
   "source": [
    "#3.DataFrame of students and marks, filter >80\n",
    "import pandas as pd\n",
    "\n",
    "data = {\n",
    "    \"Student\": [\"Animesh\", \"Preeti\", \"Amulya\", \"Shri\", \"Lavanya\"],\n",
    "    \"Marks\": [75, 88, 92, 67, 81]\n",
    "}\n",
    "df_students = pd.DataFrame(data)\n",
    "high_scorers = df_students[df_students[\"Marks\"] > 80]\n",
    "print(\"\\nStudents scoring more than 80:\\n\", high_scorers)"
   ]
  },
  {
   "cell_type": "code",
   "execution_count": 5,
   "id": "2a680806-bf8f-4862-9eb5-cb1bdce52110",
   "metadata": {},
   "outputs": [
    {
     "name": "stdout",
     "output_type": "stream",
     "text": [
      "\n",
      "5x5 Random Array:\n",
      " [[34  2 91 94 50]\n",
      " [21 12 73 46 61]\n",
      " [46 42 57 40 46]\n",
      " [70 19 74 51 84]\n",
      " [34 93 93 53 91]]\n"
     ]
    }
   ],
   "source": [
    "#4.Create a 5x5 array with random integers between 1 and 100.\n",
    "import numpy as np\n",
    "\n",
    "array_5x5 = np.random.randint(1, 101, size=(5,5))\n",
    "print(\"\\n5x5 Random Array:\\n\", array_5x5)"
   ]
  },
  {
   "cell_type": "code",
   "execution_count": 6,
   "id": "8b25881a-02f6-463e-a98f-6f1b62498e61",
   "metadata": {},
   "outputs": [
    {
     "name": "stdout",
     "output_type": "stream",
     "text": [
      "\n",
      "Products cheaper than 500:\n",
      "   Product Name  Price     Category  Discounted Price\n",
      "1   Headphones    450  Electronics             405.0\n",
      "2     Keyboard    350  Electronics             315.0\n",
      "3        Mouse    200  Electronics             180.0\n"
     ]
    }
   ],
   "source": [
    "#5.Create a DataFrame of products with columns: Product Name, Price, Category.\n",
    "import pandas as pd\n",
    "products_data = {\n",
    "    \"Product Name\": [\"Laptop\", \"Headphones\", \"Keyboard\", \"Mouse\", \"Monitor\"],\n",
    "    \"Price\": [1200, 450, 350, 200, 600],\n",
    "    \"Category\": [\"Electronics\", \"Electronics\", \"Electronics\", \"Electronics\", \"Electronics\"]\n",
    "}\n",
    "df_products = pd.DataFrame(products_data)\n",
    "df_products[\"Discounted Price\"] = df_products[\"Price\"] * 0.9\n",
    "cheap_products = df_products[df_products[\"Discounted Price\"] < 500]\n",
    "print(\"\\nProducts cheaper than 500:\\n\", cheap_products)"
   ]
  },
  {
   "cell_type": "code",
   "execution_count": null,
   "id": "798faaf5-965e-49aa-b9b1-ffeea90fb8e4",
   "metadata": {},
   "outputs": [],
   "source": []
  }
 ],
 "metadata": {
  "kernelspec": {
   "display_name": "Python 3 (ipykernel)",
   "language": "python",
   "name": "python3"
  },
  "language_info": {
   "codemirror_mode": {
    "name": "ipython",
    "version": 3
   },
   "file_extension": ".py",
   "mimetype": "text/x-python",
   "name": "python",
   "nbconvert_exporter": "python",
   "pygments_lexer": "ipython3",
   "version": "3.13.7"
  }
 },
 "nbformat": 4,
 "nbformat_minor": 5
}
